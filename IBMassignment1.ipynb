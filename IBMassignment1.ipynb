{
 "cells": [
  {
   "cell_type": "markdown",
   "metadata": {},
   "source": [
    "<center>\n",
    "    <img src=\"https://cf-courses-data.s3.us.cloud-object-storage.appdomain.cloud/IBMDeveloperSkillsNetwork-DS0105EN-SkillsNetwork/labs/Module2/images/SN_web_lightmode.png\" width=\"300\" alt=\"cognitiveclass.ai logo\">\n",
    "</center>\n"
   ]
  },
  {
   "cell_type": "markdown",
   "metadata": {},
   "source": [
    "#### Add your code below following the instructions given in the course\n"
   ]
  },
  {
   "cell_type": "markdown",
   "metadata": {},
   "source": [
    "# **My Jupyter Notebook on IBM Watson Studio**"
   ]
  },
  {
   "cell_type": "markdown",
   "metadata": {
    "tags": []
   },
   "source": [
    "## **Introduction about the Jupyter Assignment:**"
   ]
  },
  {
   "cell_type": "markdown",
   "metadata": {},
   "source": [
    "### **Data Science Languages:**\n",
    "- Python\n",
    "- SQL\n",
    "- R\n",
    "- Scala\n",
    "- Julia\n",
    "- JavaScript\n",
    "     "
   ]
  },
  {
   "cell_type": "markdown",
   "metadata": {},
   "source": [
    "### **Data Science Libraries:**\n",
    "- Numpy\n",
    "- Pandas\n",
    "- Matplotlib\n",
    "- Scikitlearn\n",
    "- Scipy\n",
    "- TensorFlow\n",
    "- Keras\n",
    "- Pytorch\n",
    "- Seaborn"
   ]
  },
  {
   "cell_type": "markdown",
   "metadata": {},
   "source": [
    "### **Data Science Tools:**\n",
    "NO | Tools      \n",
    "--|:---------:\n",
    "1|SAS       \n",
    "2|Apache Spark  \n",
    "3|MATLAB\n",
    "4|Tableau\n",
    "5|Jupyter\n",
    "6|Matplotlib\n",
    "7|NLTK\n",
    "8|Scikit-Learn\n",
    "9|Tensor Flow\n",
    "10|ggplot2"
   ]
  },
  {
   "cell_type": "markdown",
   "metadata": {},
   "source": [
    "### **Arithmetic expression:**\n",
    "##### a=6\n",
    "##### b=9\n",
    "##### c=a+b\n",
    "##### print(c)"
   ]
  },
  {
   "cell_type": "markdown",
   "metadata": {},
   "source": [
    "### **Code cell to multiply and add numbers:**\n"
   ]
  },
  {
   "cell_type": "code",
   "execution_count": 5,
   "metadata": {},
   "outputs": [
    {
     "name": "stdout",
     "output_type": "stream",
     "text": [
      "THE MULTIPLICATION OF : 30\n",
      "THE ADDITION OF: 36\n"
     ]
    }
   ],
   "source": [
    "a=5\n",
    "b=6\n",
    "c=a*b\n",
    "print(\"THE MULTIPLICATION OF :\",c)\n",
    "d=c+b\n",
    "print(\"THE ADDITION OF:\",d)"
   ]
  },
  {
   "cell_type": "markdown",
   "metadata": {},
   "source": [
    "### **Code cell to convert minutes to hours:**"
   ]
  },
  {
   "cell_type": "code",
   "execution_count": 8,
   "metadata": {},
   "outputs": [
    {
     "name": "stdout",
     "output_type": "stream",
     "text": [
      "hours = 83 ,min =20\n"
     ]
    }
   ],
   "source": [
    "Total_min=5000\n",
    "min= Total_min % 60\n",
    "hours= (Total_min - min)/ 60\n",
    "print(\"hours = %d ,min =%d\" % (hours,min))\n"
   ]
  },
  {
   "cell_type": "markdown",
   "metadata": {},
   "source": [
    "#### **OBJECTIVES:**\n",
    "\n",
    "1. Title of the notebook\n",
    "2. Introduction\n",
    "3. List of Data Science Languages\n",
    "4. List of Data Science Libraries\n",
    "5. Data Science Tools\n",
    "6. Introducing Arithmetic Expression\n",
    "7. Multiply and Add Numbers\n"
   ]
  },
  {
   "cell_type": "markdown",
   "metadata": {},
   "source": [
    "#### **Sollarasu P.K**"
   ]
  },
  {
   "cell_type": "markdown",
   "metadata": {},
   "source": [
    "# GITHUB:\n",
    "https://github.com/Sollarasu2001/sharing-guthub/blob/main/IBMassignment1.ipynb"
   ]
  },
  {
   "cell_type": "code",
   "execution_count": null,
   "metadata": {},
   "outputs": [],
   "source": []
  }
 ],
 "metadata": {
  "kernelspec": {
   "display_name": "Python",
   "language": "python",
   "name": "conda-env-python-py"
  },
  "language_info": {
   "codemirror_mode": {
    "name": "ipython",
    "version": 3
   },
   "file_extension": ".py",
   "mimetype": "text/x-python",
   "name": "python",
   "nbconvert_exporter": "python",
   "pygments_lexer": "ipython3",
   "version": "3.7.12"
  }
 },
 "nbformat": 4,
 "nbformat_minor": 4
}
